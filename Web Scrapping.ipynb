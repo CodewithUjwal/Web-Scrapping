{
 "cells": [
  {
   "cell_type": "markdown",
   "id": "7e06c5bd-0368-406b-810d-6f8ab9c9d296",
   "metadata": {},
   "source": [
    "Q1 Web Scraping is the process of automatically extracting data from websites. This is typically done using software tools or scripts that simulate the web browsing process to collect information from web pages. The data can then be stored in a structured format, such as a database or spreadsheet, for further analysis or use.\n",
    "Web scraping is used for various reasons, including:\n",
    "1  Data collection\n",
    "2  Market Research\n",
    "3  Automation\n",
    "Three Areas Where Web Scraping is Used-\n",
    "1.E-commerce\n",
    "2.Real Estate\n",
    "3.Social Media\n"
   ]
  },
  {
   "cell_type": "markdown",
   "id": "dcfd114c-3b64-4b7f-9a10-15555ae18d65",
   "metadata": {},
   "source": [
    "Q2 \n",
    "1 Manual Scraping\n",
    "2  HTML Parsing\n",
    "3 DOM Parsing\n",
    "4 Regular Expressions\n"
   ]
  },
  {
   "cell_type": "markdown",
   "id": "d38062b1-17f7-464d-bd67-5302f1b3590b",
   "metadata": {},
   "source": [
    "Q3\n",
    "Beautiful Soup is a Python library used for parsing HTML and XML documents.\n",
    "It creates a parse tree for parsed pages that can be used to extract data from HTML, which is useful for web scraping.\n",
    "Beautiful Soup provides Pythonic idioms for iterating, searching, and modifying the parse tree.\n",
    "Beautiful Soup is used primarily for web scraping and data extraction from web pages due to its simplicity and effectiveness.\n"
   ]
  },
  {
   "cell_type": "markdown",
   "id": "8d8a3ddd-968d-4979-b3a0-ce350ab6a956",
   "metadata": {},
   "source": [
    "Q4\n"
   ]
  },
  {
   "cell_type": "code",
   "execution_count": null,
   "id": "02442bab-bab6-44df-b0d4-a47a385dbf61",
   "metadata": {},
   "outputs": [],
   "source": []
  }
 ],
 "metadata": {
  "kernelspec": {
   "display_name": "Python 3 (ipykernel)",
   "language": "python",
   "name": "python3"
  },
  "language_info": {
   "codemirror_mode": {
    "name": "ipython",
    "version": 3
   },
   "file_extension": ".py",
   "mimetype": "text/x-python",
   "name": "python",
   "nbconvert_exporter": "python",
   "pygments_lexer": "ipython3",
   "version": "3.10.8"
  }
 },
 "nbformat": 4,
 "nbformat_minor": 5
}
